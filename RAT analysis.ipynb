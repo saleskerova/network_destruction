{
 "cells": [
  {
   "cell_type": "code",
   "execution_count": 2,
   "metadata": {
    "collapsed": true
   },
   "outputs": [],
   "source": [
    "import matplotlib.pyplot as plt\n",
    "import numpy as np\n",
    "import pandas as pd\n",
    "%matplotlib inline\n",
    "import networkx as nx"
   ]
  },
  {
   "cell_type": "markdown",
   "metadata": {},
   "source": [
    "Загружаем данные по тройкам. Данные хранятся в формате .xlsx, для работы с ними используем модуль pandas. **Pandas** (Python Data Analysis Library) — библиотека языка Python для [удобных] обработки и анализа данных. Загрузка данных в **pandas** происходит в специальный объект типа **DataFrame**:"
   ]
  },
  {
   "cell_type": "code",
   "execution_count": 10,
   "metadata": {},
   "outputs": [
    {
     "name": "stdout",
     "output_type": "stream",
     "text": [
      "       Word1     Word2     Word3    Answer  2s_acc  7s_acc  7s_st  7s_sd  \\\n",
      "0    cottage     swiss      cake    cheese      52      84   3.28   1.25   \n",
      "1      cream     skate     water       ice      34      76   3.42   1.16   \n",
      "2      loser    throat      spot      sore      22      61   4.19   1.49   \n",
      "3       show      life       row      boat      31      72   4.42   1.44   \n",
      "4      night     wrist      stop     watch      38      65   4.33   1.31   \n",
      "5       duck      fold    dollar      bill      31      69   4.33   1.25   \n",
      "7        dew      comb       bee     honey      30      66   4.24   1.50   \n",
      "10       aid    rubber     wagon      band      22      56   4.21   1.50   \n",
      "12   cracker       fly   fighter      fire      17      45   4.95   1.54   \n",
      "13    safety   cushion     point       pin      24      51   3.91   1.58   \n",
      "15     dream     break     light       day      24      56   4.36   1.49   \n",
      "16      fish      mine      rush      gold      17      46   4.27   1.09   \n",
      "18   measure      worm     video      tape      10      45   4.74   1.59   \n",
      "21      worm     shelf       end      book      17      49   4.31   1.38   \n",
      "23    flower    friend     scout      girl       9      22   5.26   1.47   \n",
      "24     river      note   account      bank       2      29   5.64   0.99   \n",
      "25     print     berry      bird      blue      10      38   4.91   1.47   \n",
      "26       pie      luck     belly       pot      15      38   4.35   0.93   \n",
      "27      date     alley      fold     blind      13      40   4.51   1.22   \n",
      "28     opera      hand      dish      soap      16      33   5.26   1.41   \n",
      "30       fur      rack      tail      coat       2      16   5.42   1.35   \n",
      "31     stick     maker     point     match       1       4   5.42   1.23   \n",
      "32     hound  pressure      shot     blood       4      32   4.51   1.43   \n",
      "35      dust    cereal      fish      bowl      11      24   4.43   1.78   \n",
      "36     light  birthday     stick    candle       8      36   5.14   1.65   \n",
      "37      food   forward     break      fast       4      24   4.75   1.58   \n",
      "39     peach       arm       tar       pit      15      39   3.86   1.27   \n",
      "41      palm      shoe     house      tree      12      25   4.84   1.72   \n",
      "42    basket     eight      snow      ball       7      25   5.27   1.14   \n",
      "43     wheel      hand  shopping      cart      16      31   5.08   1.36   \n",
      "..       ...       ...       ...       ...     ...     ...    ...    ...   \n",
      "109     wise      work     tower     clock       3      11   4.85   1.41   \n",
      "110    grass      king      meat      crab       3       9   5.16   1.21   \n",
      "111     baby    spring       cap    shower       7      16   4.62   1.45   \n",
      "112    break      bean      cake    coffee       6      18   4.92   1.88   \n",
      "113      cry     front      ship    battle       2       9   4.70   1.59   \n",
      "114     hold     print     stool      foot       3      15   4.48   1.34   \n",
      "115     roll      bean      fish     jelly       0      11   4.39   1.51   \n",
      "116    horse     human      drag      race       8      32   5.03   1.37   \n",
      "117      oil       bar      tuna     salad       1       7   6.12   1.01   \n",
      "118   bottom     curve       hop      bell       2       1   4.16   0.00   \n",
      "121     line     fruit     drunk     punch       1       4   5.06   0.27   \n",
      "122     bump       egg      step     goose       4       4   6.02   0.83   \n",
      "123    fight   control   machine       gun       0       9   5.93   0.94   \n",
      "124     home       arm      room      rest       0       5   5.11   2.09   \n",
      "126     nose     stone      bear     brown       1       2   6.83   0.24   \n",
      "127      end      line      lock      dead       1       5   4.97   1.40   \n",
      "128  control     place      rate     birth       0       1   6.35   0.00   \n",
      "129   lounge      hour    napkin  cocktail       0       5   5.05   1.44   \n",
      "131      pet    bottom    garden      rock       7       6   5.56   0.80   \n",
      "132     mate     shoes     total   running       0       4   6.11   1.54   \n",
      "134    board     blade      back    switch       1       6   5.74   1.46   \n",
      "135     land      hand     house      farm       0       1   5.61   0.00   \n",
      "136   hungry     order      belt     money       0       0   0.00   0.00   \n",
      "137  forward     flush     razor  straight       1       2   4.79   2.00   \n",
      "138   shadow     chart      drop       eye       0       1   5.34   0.00   \n",
      "139      way    ground   weather      fair       0       5   5.53   1.39   \n",
      "140     cast      side      jump     broad       0       1   3.56   0.00   \n",
      "141     back      step    screen      door       0       2   5.47   0.53   \n",
      "142  reading   service     stick       lip       1       1   6.11   0.00   \n",
      "143     over     plant     horse     power       0       1   5.45   0.00   \n",
      "\n",
      "     15s_acc  15s_st  15s_sd  30s_acc  30s_st  30s_sd  IN_G  \n",
      "0         96    3.96    2.37     64.0   10.85    7.04  True  \n",
      "1         92    4.04    1.87     90.0    4.12    3.58  True  \n",
      "2         86    5.38    3.02     82.0    6.31    4.06  True  \n",
      "3         82    5.67    2.34     79.0   10.30    7.22  True  \n",
      "4         82    6.00    3.00     97.0    6.27    5.83  True  \n",
      "5         80    6.05    2.82     92.0    6.58    4.28  True  \n",
      "7         80    5.63    3.15    100.0    4.12    2.14  True  \n",
      "10        75    5.41    2.15     69.0    6.51    4.62  True  \n",
      "12        68    5.91    2.54     85.0    6.12    3.87  True  \n",
      "13        66    5.83    2.78     74.0    5.00    2.84  True  \n",
      "15        64    5.35    2.56     56.0    7.91    6.72  True  \n",
      "16        63    6.48    3.32     74.0    9.07    6.83  True  \n",
      "18        58    6.12    2.90     87.0    8.36    5.24  True  \n",
      "21        53    5.88    2.90     85.0    6.76    6.25  True  \n",
      "23        51    8.06    2.94     67.0   11.43    7.70  True  \n",
      "24        50    7.98    2.81     79.0   10.53    5.88  True  \n",
      "25        49    7.18    3.77     77.0   13.24    7.94  True  \n",
      "26        49    5.31    2.03     44.0    8.68    4.36  True  \n",
      "27        47    6.99    3.33     85.0    7.06    5.42  True  \n",
      "28        47    6.54    3.11     62.0    7.92    6.45  True  \n",
      "30        46    7.89    3.49     79.0    8.00    6.76  True  \n",
      "31        46    6.65    3.46     21.0   12.19    8.15  True  \n",
      "32        42    6.48    3.94     72.0    6.98    5.32  True  \n",
      "35        41    6.39    3.29     49.0    9.53    6.64  True  \n",
      "36        41    7.97    3.02     46.0    9.74    6.83  True  \n",
      "37        41    7.54    3.24     82.0    7.73    5.77  True  \n",
      "39        41    5.00    2.39     67.0   10.01    7.97  True  \n",
      "41        41    7.79    3.19     51.0   13.90    7.90  True  \n",
      "42        39    9.57    3.57     72.0   10.87    7.18  True  \n",
      "43        39    7.96    3.33     49.0   10.65    6.20  True  \n",
      "..       ...     ...     ...      ...     ...     ...   ...  \n",
      "109       13    9.04    3.92     13.0   13.32    7.85  True  \n",
      "110       13    6.79    2.29     23.0   14.20    6.80  True  \n",
      "111       13    7.99    3.33     28.0    7.58    5.56  True  \n",
      "112       12    8.31    4.09     33.0   14.04    6.90  True  \n",
      "113       11    8.20    2.87     18.0   13.69    9.78  True  \n",
      "114       11    8.51    4.20     41.0    8.62    4.33  True  \n",
      "115       11    4.03    1.42     26.0   13.24    6.16  True  \n",
      "116       11    7.39    2.01     56.0   12.14    6.67  True  \n",
      "117       11    9.63    2.88     41.0   17.05    7.20  True  \n",
      "118        9    6.25    2.08     46.0    7.73    6.80  True  \n",
      "121        9    6.91    2.20     10.0   16.24    3.37  True  \n",
      "122        8    7.68    4.57      NaN     NaN     NaN  True  \n",
      "123        8    8.70    3.09     28.0   13.92    6.28  True  \n",
      "124        8    9.90    2.32     21.0   13.48    7.10  True  \n",
      "126        7    9.36    2.79     26.0   16.11    9.12  True  \n",
      "127        7   10.06    3.18      NaN     NaN     NaN  True  \n",
      "128        5    6.09    2.58     14.0   10.25   13.00  True  \n",
      "129        5   12.55    1.86     10.0    7.82    2.96  True  \n",
      "131        5   10.94    3.16     19.0    8.95    6.82  True  \n",
      "132        5    5.79    3.47     10.0   23.47    5.17  True  \n",
      "134        4   10.80    3.24     29.0   16.14    9.45  True  \n",
      "135        3    8.20    0.54      0.0    0.00    0.00  True  \n",
      "136        3   11.56    0.45      0.0    0.00    0.00  True  \n",
      "137        3   11.45    3.14      5.0    3.89    0.00  True  \n",
      "138        1    0.56    0.00     15.0   12.03    4.13  True  \n",
      "139        1    3.11    0.00     10.0   17.04    5.48  True  \n",
      "140        0    0.00    0.00      5.0   10.81    0.00  True  \n",
      "141        0    0.00    0.00     33.0    7.73    2.57  True  \n",
      "142        0    0.00    0.00     10.0    9.57    8.00  True  \n",
      "143        0    0.00    0.00     10.0   18.30    5.26  True  \n",
      "\n",
      "[117 rows x 15 columns]\n"
     ]
    }
   ],
   "source": [
    "dt=pd.read_excel('eng_rat.xlsx') # for rat test with words in G\n",
    "print(dt)"
   ]
  },
  {
   "cell_type": "markdown",
   "metadata": {},
   "source": [
    "Как видно, данные представляют из себя таблицу, где строка — объект, столбец — признак. Для экономии места можно выводить заданное количество первых строк объекта при помощи метода head():"
   ]
  },
  {
   "cell_type": "code",
   "execution_count": 11,
   "metadata": {},
   "outputs": [
    {
     "data": {
      "text/html": [
       "<div>\n",
       "<style>\n",
       "    .dataframe thead tr:only-child th {\n",
       "        text-align: right;\n",
       "    }\n",
       "\n",
       "    .dataframe thead th {\n",
       "        text-align: left;\n",
       "    }\n",
       "\n",
       "    .dataframe tbody tr th {\n",
       "        vertical-align: top;\n",
       "    }\n",
       "</style>\n",
       "<table border=\"1\" class=\"dataframe\">\n",
       "  <thead>\n",
       "    <tr style=\"text-align: right;\">\n",
       "      <th></th>\n",
       "      <th>Word1</th>\n",
       "      <th>Word2</th>\n",
       "      <th>Word3</th>\n",
       "      <th>Answer</th>\n",
       "      <th>2s_acc</th>\n",
       "      <th>7s_acc</th>\n",
       "      <th>7s_st</th>\n",
       "      <th>7s_sd</th>\n",
       "      <th>15s_acc</th>\n",
       "      <th>15s_st</th>\n",
       "      <th>15s_sd</th>\n",
       "      <th>30s_acc</th>\n",
       "      <th>30s_st</th>\n",
       "      <th>30s_sd</th>\n",
       "      <th>IN_G</th>\n",
       "    </tr>\n",
       "  </thead>\n",
       "  <tbody>\n",
       "    <tr>\n",
       "      <th>0</th>\n",
       "      <td>cottage</td>\n",
       "      <td>swiss</td>\n",
       "      <td>cake</td>\n",
       "      <td>cheese</td>\n",
       "      <td>52</td>\n",
       "      <td>84</td>\n",
       "      <td>3.28</td>\n",
       "      <td>1.25</td>\n",
       "      <td>96</td>\n",
       "      <td>3.96</td>\n",
       "      <td>2.37</td>\n",
       "      <td>64.0</td>\n",
       "      <td>10.85</td>\n",
       "      <td>7.04</td>\n",
       "      <td>True</td>\n",
       "    </tr>\n",
       "    <tr>\n",
       "      <th>1</th>\n",
       "      <td>cream</td>\n",
       "      <td>skate</td>\n",
       "      <td>water</td>\n",
       "      <td>ice</td>\n",
       "      <td>34</td>\n",
       "      <td>76</td>\n",
       "      <td>3.42</td>\n",
       "      <td>1.16</td>\n",
       "      <td>92</td>\n",
       "      <td>4.04</td>\n",
       "      <td>1.87</td>\n",
       "      <td>90.0</td>\n",
       "      <td>4.12</td>\n",
       "      <td>3.58</td>\n",
       "      <td>True</td>\n",
       "    </tr>\n",
       "    <tr>\n",
       "      <th>2</th>\n",
       "      <td>loser</td>\n",
       "      <td>throat</td>\n",
       "      <td>spot</td>\n",
       "      <td>sore</td>\n",
       "      <td>22</td>\n",
       "      <td>61</td>\n",
       "      <td>4.19</td>\n",
       "      <td>1.49</td>\n",
       "      <td>86</td>\n",
       "      <td>5.38</td>\n",
       "      <td>3.02</td>\n",
       "      <td>82.0</td>\n",
       "      <td>6.31</td>\n",
       "      <td>4.06</td>\n",
       "      <td>True</td>\n",
       "    </tr>\n",
       "    <tr>\n",
       "      <th>3</th>\n",
       "      <td>show</td>\n",
       "      <td>life</td>\n",
       "      <td>row</td>\n",
       "      <td>boat</td>\n",
       "      <td>31</td>\n",
       "      <td>72</td>\n",
       "      <td>4.42</td>\n",
       "      <td>1.44</td>\n",
       "      <td>82</td>\n",
       "      <td>5.67</td>\n",
       "      <td>2.34</td>\n",
       "      <td>79.0</td>\n",
       "      <td>10.30</td>\n",
       "      <td>7.22</td>\n",
       "      <td>True</td>\n",
       "    </tr>\n",
       "    <tr>\n",
       "      <th>4</th>\n",
       "      <td>night</td>\n",
       "      <td>wrist</td>\n",
       "      <td>stop</td>\n",
       "      <td>watch</td>\n",
       "      <td>38</td>\n",
       "      <td>65</td>\n",
       "      <td>4.33</td>\n",
       "      <td>1.31</td>\n",
       "      <td>82</td>\n",
       "      <td>6.00</td>\n",
       "      <td>3.00</td>\n",
       "      <td>97.0</td>\n",
       "      <td>6.27</td>\n",
       "      <td>5.83</td>\n",
       "      <td>True</td>\n",
       "    </tr>\n",
       "    <tr>\n",
       "      <th>5</th>\n",
       "      <td>duck</td>\n",
       "      <td>fold</td>\n",
       "      <td>dollar</td>\n",
       "      <td>bill</td>\n",
       "      <td>31</td>\n",
       "      <td>69</td>\n",
       "      <td>4.33</td>\n",
       "      <td>1.25</td>\n",
       "      <td>80</td>\n",
       "      <td>6.05</td>\n",
       "      <td>2.82</td>\n",
       "      <td>92.0</td>\n",
       "      <td>6.58</td>\n",
       "      <td>4.28</td>\n",
       "      <td>True</td>\n",
       "    </tr>\n",
       "    <tr>\n",
       "      <th>7</th>\n",
       "      <td>dew</td>\n",
       "      <td>comb</td>\n",
       "      <td>bee</td>\n",
       "      <td>honey</td>\n",
       "      <td>30</td>\n",
       "      <td>66</td>\n",
       "      <td>4.24</td>\n",
       "      <td>1.50</td>\n",
       "      <td>80</td>\n",
       "      <td>5.63</td>\n",
       "      <td>3.15</td>\n",
       "      <td>100.0</td>\n",
       "      <td>4.12</td>\n",
       "      <td>2.14</td>\n",
       "      <td>True</td>\n",
       "    </tr>\n",
       "    <tr>\n",
       "      <th>10</th>\n",
       "      <td>aid</td>\n",
       "      <td>rubber</td>\n",
       "      <td>wagon</td>\n",
       "      <td>band</td>\n",
       "      <td>22</td>\n",
       "      <td>56</td>\n",
       "      <td>4.21</td>\n",
       "      <td>1.50</td>\n",
       "      <td>75</td>\n",
       "      <td>5.41</td>\n",
       "      <td>2.15</td>\n",
       "      <td>69.0</td>\n",
       "      <td>6.51</td>\n",
       "      <td>4.62</td>\n",
       "      <td>True</td>\n",
       "    </tr>\n",
       "    <tr>\n",
       "      <th>12</th>\n",
       "      <td>cracker</td>\n",
       "      <td>fly</td>\n",
       "      <td>fighter</td>\n",
       "      <td>fire</td>\n",
       "      <td>17</td>\n",
       "      <td>45</td>\n",
       "      <td>4.95</td>\n",
       "      <td>1.54</td>\n",
       "      <td>68</td>\n",
       "      <td>5.91</td>\n",
       "      <td>2.54</td>\n",
       "      <td>85.0</td>\n",
       "      <td>6.12</td>\n",
       "      <td>3.87</td>\n",
       "      <td>True</td>\n",
       "    </tr>\n",
       "    <tr>\n",
       "      <th>13</th>\n",
       "      <td>safety</td>\n",
       "      <td>cushion</td>\n",
       "      <td>point</td>\n",
       "      <td>pin</td>\n",
       "      <td>24</td>\n",
       "      <td>51</td>\n",
       "      <td>3.91</td>\n",
       "      <td>1.58</td>\n",
       "      <td>66</td>\n",
       "      <td>5.83</td>\n",
       "      <td>2.78</td>\n",
       "      <td>74.0</td>\n",
       "      <td>5.00</td>\n",
       "      <td>2.84</td>\n",
       "      <td>True</td>\n",
       "    </tr>\n",
       "  </tbody>\n",
       "</table>\n",
       "</div>"
      ],
      "text/plain": [
       "      Word1    Word2    Word3  Answer  2s_acc  7s_acc  7s_st  7s_sd  15s_acc  \\\n",
       "0   cottage    swiss     cake  cheese      52      84   3.28   1.25       96   \n",
       "1     cream    skate    water     ice      34      76   3.42   1.16       92   \n",
       "2     loser   throat     spot    sore      22      61   4.19   1.49       86   \n",
       "3      show     life      row    boat      31      72   4.42   1.44       82   \n",
       "4     night    wrist     stop   watch      38      65   4.33   1.31       82   \n",
       "5      duck     fold   dollar    bill      31      69   4.33   1.25       80   \n",
       "7       dew     comb      bee   honey      30      66   4.24   1.50       80   \n",
       "10      aid   rubber    wagon    band      22      56   4.21   1.50       75   \n",
       "12  cracker      fly  fighter    fire      17      45   4.95   1.54       68   \n",
       "13   safety  cushion    point     pin      24      51   3.91   1.58       66   \n",
       "\n",
       "    15s_st  15s_sd  30s_acc  30s_st  30s_sd  IN_G  \n",
       "0     3.96    2.37     64.0   10.85    7.04  True  \n",
       "1     4.04    1.87     90.0    4.12    3.58  True  \n",
       "2     5.38    3.02     82.0    6.31    4.06  True  \n",
       "3     5.67    2.34     79.0   10.30    7.22  True  \n",
       "4     6.00    3.00     97.0    6.27    5.83  True  \n",
       "5     6.05    2.82     92.0    6.58    4.28  True  \n",
       "7     5.63    3.15    100.0    4.12    2.14  True  \n",
       "10    5.41    2.15     69.0    6.51    4.62  True  \n",
       "12    5.91    2.54     85.0    6.12    3.87  True  \n",
       "13    5.83    2.78     74.0    5.00    2.84  True  "
      ]
     },
     "execution_count": 11,
     "metadata": {},
     "output_type": "execute_result"
    }
   ],
   "source": [
    "dt.head(10)"
   ]
  },
  {
   "cell_type": "markdown",
   "metadata": {},
   "source": [
    "По данным можно индексироваться при помощи номеров строк/столбцов или названий признаков:"
   ]
  },
  {
   "cell_type": "code",
   "execution_count": 15,
   "metadata": {},
   "outputs": [
    {
     "data": {
      "text/html": [
       "<div>\n",
       "<style>\n",
       "    .dataframe thead tr:only-child th {\n",
       "        text-align: right;\n",
       "    }\n",
       "\n",
       "    .dataframe thead th {\n",
       "        text-align: left;\n",
       "    }\n",
       "\n",
       "    .dataframe tbody tr th {\n",
       "        vertical-align: top;\n",
       "    }\n",
       "</style>\n",
       "<table border=\"1\" class=\"dataframe\">\n",
       "  <thead>\n",
       "    <tr style=\"text-align: right;\">\n",
       "      <th></th>\n",
       "      <th>Word1</th>\n",
       "      <th>Word2</th>\n",
       "      <th>Word3</th>\n",
       "      <th>Answer</th>\n",
       "      <th>2s_acc</th>\n",
       "      <th>7s_acc</th>\n",
       "      <th>7s_st</th>\n",
       "      <th>7s_sd</th>\n",
       "      <th>15s_acc</th>\n",
       "      <th>15s_st</th>\n",
       "      <th>15s_sd</th>\n",
       "      <th>30s_acc</th>\n",
       "      <th>30s_st</th>\n",
       "      <th>30s_sd</th>\n",
       "      <th>IN_G</th>\n",
       "    </tr>\n",
       "  </thead>\n",
       "  <tbody>\n",
       "    <tr>\n",
       "      <th>2</th>\n",
       "      <td>loser</td>\n",
       "      <td>throat</td>\n",
       "      <td>spot</td>\n",
       "      <td>sore</td>\n",
       "      <td>22</td>\n",
       "      <td>61</td>\n",
       "      <td>4.19</td>\n",
       "      <td>1.49</td>\n",
       "      <td>86</td>\n",
       "      <td>5.38</td>\n",
       "      <td>3.02</td>\n",
       "      <td>82.0</td>\n",
       "      <td>6.31</td>\n",
       "      <td>4.06</td>\n",
       "      <td>True</td>\n",
       "    </tr>\n",
       "    <tr>\n",
       "      <th>3</th>\n",
       "      <td>show</td>\n",
       "      <td>life</td>\n",
       "      <td>row</td>\n",
       "      <td>boat</td>\n",
       "      <td>31</td>\n",
       "      <td>72</td>\n",
       "      <td>4.42</td>\n",
       "      <td>1.44</td>\n",
       "      <td>82</td>\n",
       "      <td>5.67</td>\n",
       "      <td>2.34</td>\n",
       "      <td>79.0</td>\n",
       "      <td>10.30</td>\n",
       "      <td>7.22</td>\n",
       "      <td>True</td>\n",
       "    </tr>\n",
       "    <tr>\n",
       "      <th>4</th>\n",
       "      <td>night</td>\n",
       "      <td>wrist</td>\n",
       "      <td>stop</td>\n",
       "      <td>watch</td>\n",
       "      <td>38</td>\n",
       "      <td>65</td>\n",
       "      <td>4.33</td>\n",
       "      <td>1.31</td>\n",
       "      <td>82</td>\n",
       "      <td>6.00</td>\n",
       "      <td>3.00</td>\n",
       "      <td>97.0</td>\n",
       "      <td>6.27</td>\n",
       "      <td>5.83</td>\n",
       "      <td>True</td>\n",
       "    </tr>\n",
       "  </tbody>\n",
       "</table>\n",
       "</div>"
      ],
      "text/plain": [
       "   Word1   Word2 Word3 Answer  2s_acc  7s_acc  7s_st  7s_sd  15s_acc  15s_st  \\\n",
       "2  loser  throat  spot   sore      22      61   4.19   1.49       86    5.38   \n",
       "3   show    life   row   boat      31      72   4.42   1.44       82    5.67   \n",
       "4  night   wrist  stop  watch      38      65   4.33   1.31       82    6.00   \n",
       "\n",
       "   15s_sd  30s_acc  30s_st  30s_sd  IN_G  \n",
       "2    3.02     82.0    6.31    4.06  True  \n",
       "3    2.34     79.0   10.30    7.22  True  \n",
       "4    3.00     97.0    6.27    5.83  True  "
      ]
     },
     "execution_count": 15,
     "metadata": {},
     "output_type": "execute_result"
    }
   ],
   "source": [
    "dt[2:5]"
   ]
  },
  {
   "cell_type": "code",
   "execution_count": 19,
   "metadata": {},
   "outputs": [
    {
     "data": {
      "text/html": [
       "<div>\n",
       "<style>\n",
       "    .dataframe thead tr:only-child th {\n",
       "        text-align: right;\n",
       "    }\n",
       "\n",
       "    .dataframe thead th {\n",
       "        text-align: left;\n",
       "    }\n",
       "\n",
       "    .dataframe tbody tr th {\n",
       "        vertical-align: top;\n",
       "    }\n",
       "</style>\n",
       "<table border=\"1\" class=\"dataframe\">\n",
       "  <thead>\n",
       "    <tr style=\"text-align: right;\">\n",
       "      <th></th>\n",
       "      <th>Word1</th>\n",
       "      <th>Word2</th>\n",
       "      <th>Word3</th>\n",
       "      <th>Answer</th>\n",
       "    </tr>\n",
       "  </thead>\n",
       "  <tbody>\n",
       "    <tr>\n",
       "      <th>1</th>\n",
       "      <td>cream</td>\n",
       "      <td>skate</td>\n",
       "      <td>water</td>\n",
       "      <td>ice</td>\n",
       "    </tr>\n",
       "    <tr>\n",
       "      <th>2</th>\n",
       "      <td>loser</td>\n",
       "      <td>throat</td>\n",
       "      <td>spot</td>\n",
       "      <td>sore</td>\n",
       "    </tr>\n",
       "    <tr>\n",
       "      <th>3</th>\n",
       "      <td>show</td>\n",
       "      <td>life</td>\n",
       "      <td>row</td>\n",
       "      <td>boat</td>\n",
       "    </tr>\n",
       "    <tr>\n",
       "      <th>4</th>\n",
       "      <td>night</td>\n",
       "      <td>wrist</td>\n",
       "      <td>stop</td>\n",
       "      <td>watch</td>\n",
       "    </tr>\n",
       "  </tbody>\n",
       "</table>\n",
       "</div>"
      ],
      "text/plain": [
       "   Word1   Word2  Word3 Answer\n",
       "1  cream   skate  water    ice\n",
       "2  loser  throat   spot   sore\n",
       "3   show    life    row   boat\n",
       "4  night   wrist   stop  watch"
      ]
     },
     "execution_count": 19,
     "metadata": {},
     "output_type": "execute_result"
    }
   ],
   "source": [
    "dt.iloc[1:5, 0:4]"
   ]
  },
  {
   "cell_type": "code",
   "execution_count": 20,
   "metadata": {},
   "outputs": [
    {
     "data": {
      "text/html": [
       "<div>\n",
       "<style>\n",
       "    .dataframe thead tr:only-child th {\n",
       "        text-align: right;\n",
       "    }\n",
       "\n",
       "    .dataframe thead th {\n",
       "        text-align: left;\n",
       "    }\n",
       "\n",
       "    .dataframe tbody tr th {\n",
       "        vertical-align: top;\n",
       "    }\n",
       "</style>\n",
       "<table border=\"1\" class=\"dataframe\">\n",
       "  <thead>\n",
       "    <tr style=\"text-align: right;\">\n",
       "      <th></th>\n",
       "      <th>Word1</th>\n",
       "      <th>Word2</th>\n",
       "      <th>Word3</th>\n",
       "      <th>Answer</th>\n",
       "      <th>15s_acc</th>\n",
       "    </tr>\n",
       "  </thead>\n",
       "  <tbody>\n",
       "    <tr>\n",
       "      <th>0</th>\n",
       "      <td>cottage</td>\n",
       "      <td>swiss</td>\n",
       "      <td>cake</td>\n",
       "      <td>cheese</td>\n",
       "      <td>96</td>\n",
       "    </tr>\n",
       "    <tr>\n",
       "      <th>1</th>\n",
       "      <td>cream</td>\n",
       "      <td>skate</td>\n",
       "      <td>water</td>\n",
       "      <td>ice</td>\n",
       "      <td>92</td>\n",
       "    </tr>\n",
       "    <tr>\n",
       "      <th>2</th>\n",
       "      <td>loser</td>\n",
       "      <td>throat</td>\n",
       "      <td>spot</td>\n",
       "      <td>sore</td>\n",
       "      <td>86</td>\n",
       "    </tr>\n",
       "    <tr>\n",
       "      <th>3</th>\n",
       "      <td>show</td>\n",
       "      <td>life</td>\n",
       "      <td>row</td>\n",
       "      <td>boat</td>\n",
       "      <td>82</td>\n",
       "    </tr>\n",
       "    <tr>\n",
       "      <th>4</th>\n",
       "      <td>night</td>\n",
       "      <td>wrist</td>\n",
       "      <td>stop</td>\n",
       "      <td>watch</td>\n",
       "      <td>82</td>\n",
       "    </tr>\n",
       "  </tbody>\n",
       "</table>\n",
       "</div>"
      ],
      "text/plain": [
       "     Word1   Word2  Word3  Answer  15s_acc\n",
       "0  cottage   swiss   cake  cheese       96\n",
       "1    cream   skate  water     ice       92\n",
       "2    loser  throat   spot    sore       86\n",
       "3     show    life    row    boat       82\n",
       "4    night   wrist   stop   watch       82"
      ]
     },
     "execution_count": 20,
     "metadata": {},
     "output_type": "execute_result"
    }
   ],
   "source": [
    "dt[['Word1', 'Word2', 'Word3','Answer','15s_acc']].head()"
   ]
  },
  {
   "cell_type": "markdown",
   "metadata": {},
   "source": [
    "Постмотрим на распределение числа верно ответивших на тест за 15 секунд:"
   ]
  },
  {
   "cell_type": "code",
   "execution_count": 24,
   "metadata": {},
   "outputs": [
    {
     "data": {
      "text/plain": [
       "Text(0.5,0,' accuracy 15 sec')"
      ]
     },
     "execution_count": 24,
     "metadata": {},
     "output_type": "execute_result"
    },
    {
     "data": {
      "image/png": "[encoded data removed]",
      "text/plain": [
       "<matplotlib.figure.Figure at 0x15f69f1d7b8>"
      ]
     },
     "metadata": {},
     "output_type": "display_data"
    }
   ],
   "source": [
    "dt['15s_acc'].hist(bins = 30)\n",
    "plt.xlabel(' accuracy 15 sec', fontsize=14)"
   ]
  },
  {
   "cell_type": "markdown",
   "metadata": {},
   "source": [
    "И распределение времен ответа:"
   ]
  },
  {
   "cell_type": "code",
   "execution_count": 25,
   "metadata": {},
   "outputs": [
    {
     "data": {
      "text/plain": [
       "Text(0.5,0,' accuracy 15 sec')"
      ]
     },
     "execution_count": 25,
     "metadata": {},
     "output_type": "execute_result"
    },
    {
     "data": {
      "image/png": "[encoded data removed]",
      "text/plain": [
       "<matplotlib.figure.Figure at 0x15f67d30908>"
      ]
     },
     "metadata": {},
     "output_type": "display_data"
    }
   ],
   "source": [
    "dt['15s_st'].hist(bins = 30)\n",
    "plt.xlabel(' accuracy 15 sec', fontsize=14)"
   ]
  },
  {
   "cell_type": "markdown",
   "metadata": {},
   "source": [
    "Есть ли корреляция между точностью решения задачи и временем?"
   ]
  },
  {
   "cell_type": "code",
   "execution_count": 26,
   "metadata": {},
   "outputs": [
    {
     "data": {
      "text/plain": [
       "Text(0,0.5,' answer time')"
      ]
     },
     "execution_count": 26,
     "metadata": {},
     "output_type": "execute_result"
    },
    {
     "data": {
      "image/png": "[encoded data removed]",
      "text/plain": [
       "<matplotlib.figure.Figure at 0x15f67d3dac8>"
      ]
     },
     "metadata": {},
     "output_type": "display_data"
    }
   ],
   "source": [
    "plt.scatter(dt['15s_acc'],dt['15s_st'])\n",
    "plt.xlabel(' accuracy 15 sec', fontsize=14)\n",
    "plt.ylabel(' answer time', fontsize=14)"
   ]
  },
  {
   "cell_type": "markdown",
   "metadata": {},
   "source": [
    "Определим сложность теста по проценту решивших тест верно:"
   ]
  },
  {
   "cell_type": "code",
   "execution_count": 31,
   "metadata": {},
   "outputs": [
    {
     "data": {
      "text/html": [
       "<div>\n",
       "<style>\n",
       "    .dataframe thead tr:only-child th {\n",
       "        text-align: right;\n",
       "    }\n",
       "\n",
       "    .dataframe thead th {\n",
       "        text-align: left;\n",
       "    }\n",
       "\n",
       "    .dataframe tbody tr th {\n",
       "        vertical-align: top;\n",
       "    }\n",
       "</style>\n",
       "<table border=\"1\" class=\"dataframe\">\n",
       "  <thead>\n",
       "    <tr style=\"text-align: right;\">\n",
       "      <th></th>\n",
       "      <th>Word1</th>\n",
       "      <th>Word2</th>\n",
       "      <th>Word3</th>\n",
       "      <th>Answer</th>\n",
       "      <th>2s_acc</th>\n",
       "      <th>7s_acc</th>\n",
       "      <th>7s_st</th>\n",
       "      <th>7s_sd</th>\n",
       "      <th>15s_acc</th>\n",
       "      <th>15s_st</th>\n",
       "      <th>15s_sd</th>\n",
       "      <th>30s_acc</th>\n",
       "      <th>30s_st</th>\n",
       "      <th>30s_sd</th>\n",
       "      <th>IN_G</th>\n",
       "      <th>Comp</th>\n",
       "    </tr>\n",
       "  </thead>\n",
       "  <tbody>\n",
       "    <tr>\n",
       "      <th>0</th>\n",
       "      <td>cottage</td>\n",
       "      <td>swiss</td>\n",
       "      <td>cake</td>\n",
       "      <td>cheese</td>\n",
       "      <td>52</td>\n",
       "      <td>84</td>\n",
       "      <td>3.28</td>\n",
       "      <td>1.25</td>\n",
       "      <td>96</td>\n",
       "      <td>3.96</td>\n",
       "      <td>2.37</td>\n",
       "      <td>64.0</td>\n",
       "      <td>10.85</td>\n",
       "      <td>7.04</td>\n",
       "      <td>True</td>\n",
       "      <td>2</td>\n",
       "    </tr>\n",
       "    <tr>\n",
       "      <th>1</th>\n",
       "      <td>cream</td>\n",
       "      <td>skate</td>\n",
       "      <td>water</td>\n",
       "      <td>ice</td>\n",
       "      <td>34</td>\n",
       "      <td>76</td>\n",
       "      <td>3.42</td>\n",
       "      <td>1.16</td>\n",
       "      <td>92</td>\n",
       "      <td>4.04</td>\n",
       "      <td>1.87</td>\n",
       "      <td>90.0</td>\n",
       "      <td>4.12</td>\n",
       "      <td>3.58</td>\n",
       "      <td>True</td>\n",
       "      <td>2</td>\n",
       "    </tr>\n",
       "    <tr>\n",
       "      <th>2</th>\n",
       "      <td>loser</td>\n",
       "      <td>throat</td>\n",
       "      <td>spot</td>\n",
       "      <td>sore</td>\n",
       "      <td>22</td>\n",
       "      <td>61</td>\n",
       "      <td>4.19</td>\n",
       "      <td>1.49</td>\n",
       "      <td>86</td>\n",
       "      <td>5.38</td>\n",
       "      <td>3.02</td>\n",
       "      <td>82.0</td>\n",
       "      <td>6.31</td>\n",
       "      <td>4.06</td>\n",
       "      <td>True</td>\n",
       "      <td>2</td>\n",
       "    </tr>\n",
       "    <tr>\n",
       "      <th>3</th>\n",
       "      <td>show</td>\n",
       "      <td>life</td>\n",
       "      <td>row</td>\n",
       "      <td>boat</td>\n",
       "      <td>31</td>\n",
       "      <td>72</td>\n",
       "      <td>4.42</td>\n",
       "      <td>1.44</td>\n",
       "      <td>82</td>\n",
       "      <td>5.67</td>\n",
       "      <td>2.34</td>\n",
       "      <td>79.0</td>\n",
       "      <td>10.30</td>\n",
       "      <td>7.22</td>\n",
       "      <td>True</td>\n",
       "      <td>2</td>\n",
       "    </tr>\n",
       "    <tr>\n",
       "      <th>4</th>\n",
       "      <td>night</td>\n",
       "      <td>wrist</td>\n",
       "      <td>stop</td>\n",
       "      <td>watch</td>\n",
       "      <td>38</td>\n",
       "      <td>65</td>\n",
       "      <td>4.33</td>\n",
       "      <td>1.31</td>\n",
       "      <td>82</td>\n",
       "      <td>6.00</td>\n",
       "      <td>3.00</td>\n",
       "      <td>97.0</td>\n",
       "      <td>6.27</td>\n",
       "      <td>5.83</td>\n",
       "      <td>True</td>\n",
       "      <td>2</td>\n",
       "    </tr>\n",
       "  </tbody>\n",
       "</table>\n",
       "</div>"
      ],
      "text/plain": [
       "     Word1   Word2  Word3  Answer  2s_acc  7s_acc  7s_st  7s_sd  15s_acc  \\\n",
       "0  cottage   swiss   cake  cheese      52      84   3.28   1.25       96   \n",
       "1    cream   skate  water     ice      34      76   3.42   1.16       92   \n",
       "2    loser  throat   spot    sore      22      61   4.19   1.49       86   \n",
       "3     show    life    row    boat      31      72   4.42   1.44       82   \n",
       "4    night   wrist   stop   watch      38      65   4.33   1.31       82   \n",
       "\n",
       "   15s_st  15s_sd  30s_acc  30s_st  30s_sd  IN_G  Comp  \n",
       "0    3.96    2.37     64.0   10.85    7.04  True     2  \n",
       "1    4.04    1.87     90.0    4.12    3.58  True     2  \n",
       "2    5.38    3.02     82.0    6.31    4.06  True     2  \n",
       "3    5.67    2.34     79.0   10.30    7.22  True     2  \n",
       "4    6.00    3.00     97.0    6.27    5.83  True     2  "
      ]
     },
     "execution_count": 31,
     "metadata": {},
     "output_type": "execute_result"
    }
   ],
   "source": [
    "y=[]\n",
    "for row in dt.itertuples(): # Iterate over DataFrame\n",
    "    acc=row._9\n",
    "    if(acc<=32.0): y.append(0)\n",
    "    else: \n",
    "        if(acc<=64.0): y.append(1)\n",
    "        else: y.append(2)\n",
    "dt['Comp']=y \n",
    "\n",
    "dt.head()"
   ]
  },
  {
   "cell_type": "markdown",
   "metadata": {},
   "source": [
    "Теперь можно посмотреть статистику тестов внутри одного класса сложности: "
   ]
  },
  {
   "cell_type": "code",
   "execution_count": 33,
   "metadata": {},
   "outputs": [],
   "source": [
    "acc,err_acc=[],[]\n",
    "mst,err_st=[],[]\n",
    "for c in [0,1,2]:\n",
    "    t=dt[(dt['Comp']==c)]['15s_acc'].mean()\n",
    "    st=dt[(dt['Comp']==c)]['15s_acc'].std()\n",
    "    acc.append(t)\n",
    "    err_acc.append(st)\n",
    "    t=dt[(dt['Comp']==c)]['15s_st'].mean()\n",
    "    st=dt[(dt['Comp']==c)]['15s_st'].std()\n",
    "    mst.append(t)\n",
    "    err_st.append(st)"
   ]
  },
  {
   "cell_type": "code",
   "execution_count": 34,
   "metadata": {},
   "outputs": [
    {
     "data": {
      "text/plain": [
       "Text(0,0.5,'answer time')"
      ]
     },
     "execution_count": 34,
     "metadata": {},
     "output_type": "execute_result"
    },
    {
     "data": {
      "image/png": "[encoded data removed]",
      "text/plain": [
       "<matplotlib.figure.Figure at 0x15f683e1780>"
      ]
     },
     "metadata": {},
     "output_type": "display_data"
    }
   ],
   "source": [
    "fig, ax = plt.subplots(nrows=1, sharey=False,ncols=2, figsize=(12, 5))\n",
    "x_pos = np.arange(3)\n",
    "\n",
    "ax[0].bar(x_pos, acc, yerr=err_acc, align='center', alpha=0.5, ecolor='black', capsize=10)\n",
    "ax[0].set_xlabel('complexity', fontsize=14)\n",
    "ax[0].set_ylabel('accuracy', fontsize=14)\n",
    "\n",
    "ax[1].bar(x_pos, mst, yerr=err_st, align='center', alpha=0.5, ecolor='black', capsize=10)\n",
    "ax[1].set_xlabel('complexity', fontsize=14)\n",
    "ax[1].set_ylabel('answer time', fontsize=14)"
   ]
  },
  {
   "cell_type": "markdown",
   "metadata": {},
   "source": [
    "# Топологические свойства RAT в сети"
   ]
  },
  {
   "cell_type": "markdown",
   "metadata": {},
   "source": [
    "Загружаем сеть через dataframe и выводим основные характеристики сети:"
   ]
  },
  {
   "cell_type": "code",
   "execution_count": 35,
   "metadata": {},
   "outputs": [
    {
     "name": "stdout",
     "output_type": "stream",
     "text": [
      "Nodes: 5019\n",
      "Edges: 63629\n",
      "Density: 0.0025264298574940933\n",
      "Transitivity 0.1228734955845273\n"
     ]
    }
   ],
   "source": [
    "net=pd.read_excel('assoc_eng2.xlsx')\n",
    "G0=nx.from_pandas_dataframe(net,'source', 'target', edge_attr=True, create_using=nx.DiGraph())\n",
    "print('Nodes:',G0.number_of_nodes())\n",
    "print('Edges:',G0.number_of_edges())\n",
    "print('Density:',nx.density(G0))\n",
    "print('Transitivity', nx.transitivity(G0))"
   ]
  },
  {
   "cell_type": "markdown",
   "metadata": {},
   "source": [
    "Мы в первую очередь будем интересоваться путями между словами в RAT, поэтому начнем с проверки на связность:"
   ]
  },
  {
   "cell_type": "code",
   "execution_count": 36,
   "metadata": {},
   "outputs": [
    {
     "name": "stdout",
     "output_type": "stream",
     "text": [
      "False\n",
      "4843\n"
     ]
    }
   ],
   "source": [
    "print(nx.is_strongly_connected(G0))\n",
    "print(len(max(nx.strongly_connected_components(G0), key=len)))"
   ]
  },
  {
   "cell_type": "markdown",
   "metadata": {},
   "source": [
    "В отличие от сети ca-netscience сеть ассоциаций направленна, и для существования путей и алгоритмов распространения активации такое свойство сети оказывается ключевым. Для сравнения посмотрим на ненаправленную сеть, полученнуюи из направленной:"
   ]
  },
  {
   "cell_type": "code",
   "execution_count": 4,
   "metadata": {},
   "outputs": [
    {
     "ename": "NameError",
     "evalue": "name 'G' is not defined",
     "output_type": "error",
     "traceback": [
      "\u001b[1;31m\u001b[0m",
      "\u001b[1;31mNameError\u001b[0mTraceback (most recent call last)",
      "\u001b[1;32m<ipython-input-4-e15c14f2ce08>\u001b[0m in \u001b[0;36m<module>\u001b[1;34m()\u001b[0m\n\u001b[1;32m----> 1\u001b[1;33m \u001b[0mH\u001b[0m\u001b[1;33m=\u001b[0m\u001b[0mG\u001b[0m\u001b[1;33m.\u001b[0m\u001b[0mto_undirected\u001b[0m\u001b[1;33m(\u001b[0m\u001b[1;33m)\u001b[0m\u001b[1;33m\u001b[0m\u001b[0m\n\u001b[0m\u001b[0;32m      2\u001b[0m \u001b[1;32mprint\u001b[0m\u001b[1;33m(\u001b[0m\u001b[1;34m'Nodes:'\u001b[0m\u001b[1;33m,\u001b[0m\u001b[0mH\u001b[0m\u001b[1;33m.\u001b[0m\u001b[0mnumber_of_nodes\u001b[0m\u001b[1;33m(\u001b[0m\u001b[1;33m)\u001b[0m\u001b[1;33m)\u001b[0m\u001b[1;33m\u001b[0m\u001b[0m\n\u001b[0;32m      3\u001b[0m \u001b[1;32mprint\u001b[0m\u001b[1;33m(\u001b[0m\u001b[1;34m'Edges:'\u001b[0m\u001b[1;33m,\u001b[0m\u001b[0mH\u001b[0m\u001b[1;33m.\u001b[0m\u001b[0mnumber_of_edges\u001b[0m\u001b[1;33m(\u001b[0m\u001b[1;33m)\u001b[0m\u001b[1;33m)\u001b[0m\u001b[1;33m\u001b[0m\u001b[0m\n\u001b[0;32m      4\u001b[0m \u001b[1;32mprint\u001b[0m\u001b[1;33m(\u001b[0m\u001b[1;34m'Density:'\u001b[0m\u001b[1;33m,\u001b[0m\u001b[0mnx\u001b[0m\u001b[1;33m.\u001b[0m\u001b[0mdensity\u001b[0m\u001b[1;33m(\u001b[0m\u001b[0mH\u001b[0m\u001b[1;33m)\u001b[0m\u001b[1;33m)\u001b[0m\u001b[1;33m\u001b[0m\u001b[0m\n\u001b[0;32m      5\u001b[0m \u001b[1;32mprint\u001b[0m\u001b[1;33m(\u001b[0m\u001b[1;34m'Transitivity'\u001b[0m\u001b[1;33m,\u001b[0m \u001b[0mnx\u001b[0m\u001b[1;33m.\u001b[0m\u001b[0mtransitivity\u001b[0m\u001b[1;33m(\u001b[0m\u001b[0mH\u001b[0m\u001b[1;33m)\u001b[0m\u001b[1;33m)\u001b[0m\u001b[1;33m\u001b[0m\u001b[0m\n",
      "\u001b[1;31mNameError\u001b[0m: name 'G' is not defined"
     ]
    }
   ],
   "source": [
    "H=G.to_undirected()\n",
    "print('Nodes:',H.number_of_nodes())\n",
    "print('Edges:',H.number_of_edges())\n",
    "print('Density:',nx.density(H))\n",
    "print('Transitivity', nx.transitivity(H))"
   ]
  },
  {
   "cell_type": "markdown",
   "metadata": {},
   "source": [
    "Почему ребер в сети меньше, чем в направленной?)))"
   ]
  },
  {
   "cell_type": "code",
   "execution_count": 41,
   "metadata": {},
   "outputs": [
    {
     "name": "stdout",
     "output_type": "stream",
     "text": [
      "True\n",
      "5019\n"
     ]
    }
   ],
   "source": [
    "print(nx.is_connected(H))\n",
    "print(len(max(nx.connected_components(H), key=len)))"
   ]
  },
  {
   "cell_type": "markdown",
   "metadata": {},
   "source": [
    "# Задание\n",
    "\n",
    "1) Исследуйте топологические свойства сети ассоциаций. Помните, что сеть направленная и ряд свойств отличается от анологичных, определенных на ненаправленной сети. \n",
    "\n",
    "2) Помимо того что сеть ассоциаций направленна, она еще является взвешенной,т.е. каждое ребро имеет вес. Постройте распределение значений веса ребер. Проанализируйте как изменится топология сети, если убирать ребра малого веса. Для этого можно ввести порог $w_0$ и удалять все связи с весом $w_{i,j}<w_0$. Постройте зависимости топологических характеристик от значения $w_0$. \n",
    "\n",
    "3) Исследуйте топологические свойства вершин, входящих в RAT, на сети. Есть ли корреляция между сложностью RAT/временем решения RAT и топологическими свойствами вершин? Придумайте, какие топологические характеристики могут отражать сложность теста. Как можно учесть направленность и взвешенность сети ассоциаций? \n",
    "\n",
    "4) Оформите результаты анализа в виде небольшой презентации (3-4 слайда).\n",
    "\n"
   ]
  },
  {
   "cell_type": "code",
   "execution_count": null,
   "metadata": {
    "collapsed": true
   },
   "outputs": [],
   "source": []
  }
 ],
 "metadata": {
  "kernelspec": {
   "display_name": "Python 2",
   "language": "python",
   "name": "python2"
  },
  "language_info": {
   "codemirror_mode": {
    "name": "ipython",
    "version": 2
   },
   "file_extension": ".py",
   "mimetype": "text/x-python",
   "name": "python",
   "nbconvert_exporter": "python",
   "pygments_lexer": "ipython2",
   "version": "2.7.15"
  }
 },
 "nbformat": 4,
 "nbformat_minor": 2
}
